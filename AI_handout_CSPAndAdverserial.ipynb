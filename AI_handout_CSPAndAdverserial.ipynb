{
  "nbformat": 4,
  "nbformat_minor": 0,
  "metadata": {
    "colab": {
      "name": "AI_handout_CSPAndAdverserial.ipynb",
      "provenance": []
    },
    "kernelspec": {
      "name": "python3",
      "display_name": "Python 3"
    },
    "language_info": {
      "name": "python"
    }
  },
  "cells": [
    {
      "cell_type": "markdown",
      "metadata": {
        "id": "AtNlZGlufl77"
      },
      "source": [
        "**<h1>CSP :<h1>**"
      ]
    },
    {
      "cell_type": "markdown",
      "metadata": {
        "id": "I0dIiYGDb3xg"
      },
      "source": [
        "# **1_Course Scheduling**\n",
        "\n",
        "You are in charge of scheduling for computer science classes that meet Mondays, Wednesdays and Fridays. There\n",
        "are 5 classes that meet on these days and 3 professors who will be teaching these classes. You are constrained\n",
        "by the fact that each professor can only teach one class at a time.\n",
        "\n",
        "The classes are:\n",
        "1. Class 1 - Intro to Programming: meets from 8:00-9:00am\n",
        "2. Class 2 - Intro to Artificial Intelligence: meets from 8:30-9:30am\n",
        "3. Class 3 - Natural Language Processing: meets from 9:00-10:00am\n",
        "4. Class 4 - Computer Vision: meets from 9:00-10:00am\n",
        "5. Class 5 - Machine Learning: meets from 10:30-11:30am\n",
        "\n",
        "The professors are:\n",
        "1. Professor A, who is qualified to teach Classes 1, 2, and 5.\n",
        "2. Professor B, who is qualified to teach Classes 3, 4, and 5.\n",
        "3. Professor C, who is qualified to teach Classes 1, 3, and 4.\n",
        "\n"
      ]
    },
    {
      "cell_type": "markdown",
      "metadata": {
        "id": "ATV_TXjYdEP9"
      },
      "source": [
        "**1.1**\n",
        "Formulate this problem as a CSP problem in which there is one variable per class, stating the domains,\n",
        "and constraints. Constraints should be specified formally and precisely, but may be implicit rather than\n",
        "explicit."
      ]
    },
    {
      "cell_type": "markdown",
      "metadata": {
        "id": "fOJk3VgKdhuy"
      },
      "source": [
        "**Answer**\n",
        "\n",
        "Variables Domains (or unary constraints) : \n",
        "C1 {A, C}\n",
        "C2 {A}\n",
        "C3 {B, C}\n",
        "C4 {B, C}\n",
        "C5 {A, B}\n",
        "\n",
        "Binary Constraints : \n",
        "C1 6= C2\n",
        "C2 6= C3\n",
        "C2 6= C4\n",
        "C3 6= C4"
      ]
    },
    {
      "cell_type": "markdown",
      "metadata": {
        "id": "RJhYT9d5fUHV"
      },
      "source": [
        "**2.2** \n",
        "Draw the constraint graph associated with your CSP."
      ]
    },
    {
      "cell_type": "markdown",
      "metadata": {
        "id": "iT7hHuaTfiFk"
      },
      "source": [
        "**Answer**\n",
        "\n"
      ]
    },
    {
      "cell_type": "markdown",
      "metadata": {
        "id": "y1E-7Wlhgq5Y"
      },
      "source": [
        "**1.3**\n",
        "Your CSP should look nearly tree-structured. Briefly explain (one sentence or less) why we might prefer\n",
        "to solve tree-structured CSPs"
      ]
    },
    {
      "cell_type": "markdown",
      "metadata": {
        "id": "DZMHQSUIhBmm"
      },
      "source": [
        "**Answer**\n",
        "\n",
        "we can solve them in polynomial time. If a graph is tree structured (i.e. has no loops),\n",
        "then the CSP can be solved in O(nd2\n",
        ") time as compared to general CSPs, where worst-case time is O(d\n",
        "n).\n",
        "For tree-structured CSPs you can choose an ordering such that every node’s parent precedes it in the\n",
        "ordering. Then after enforcing arc consistency you can greedily assign the nodes in order, starting from\n",
        "the root, and will find a consistent assignment without backtracking."
      ]
    },
    {
      "cell_type": "markdown",
      "metadata": {
        "id": "F8BOfKRBlvMh"
      },
      "source": [
        "# **2_Trapped Pacman**\n",
        "\n",
        "Pacman is trapped! He is surrounded by mysterious corridors, each of which leads to either a pit (P), a ghost\n",
        "(G), or an exit (E). In order to escape, he needs to figure out which corridors, if any, lead to an exit and freedom,\n",
        "rather than the certain doom of a pit or a ghost.\n",
        "\n",
        "The one sign of what lies behind the corridors is the wind: a pit produces a strong breeze (S) and an exit\n",
        "produces a weak breeze (W), while a ghost doesn’t produce any breeze at all. Unfortunately, Pacman cannot\n",
        "measure the strength of the breeze at a specific corridor. Instead, he can stand between two adjacent corridors\n",
        "and feel the max of the two breezes. For example, if he stands between a pit and an exit he will sense a strong\n",
        "(S) breeze, while if he stands between an exit and a ghost, he will sense a weak (W) breeze. The measurements\n",
        "for all intersections are shown in the figure below.\n",
        "\n",
        "Also, while the total number of exits might be zero, one, or more, Pacman knows that two neighboring squares\n",
        "will not both be exits"
      ]
    },
    {
      "cell_type": "markdown",
      "metadata": {
        "id": "4pcOsdiPm5LW"
      },
      "source": [
        "![question.png](data:image/png;base64,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)"
      ]
    },
    {
      "cell_type": "markdown",
      "metadata": {
        "id": "Rbd2JMNzm56I"
      },
      "source": [
        "Pacman models this problem using variables Xi for each corridor i and domains P, G, and E."
      ]
    },
    {
      "cell_type": "markdown",
      "metadata": {
        "id": "JHubNI79nFC_"
      },
      "source": [
        "**2.1**\n",
        "State the binary and/or unary constraints for this CSP (either implicitly or explicitly)."
      ]
    },
    {
      "cell_type": "markdown",
      "metadata": {
        "id": "tIv94zsEnqUn"
      },
      "source": [
        "**Answer**\n",
        "\n",
        "Binary:\n",
        "X1 = P or X2 = P, X2 = E or X3 = E,\n",
        "X3 = E or X4 = E, X4 = P or X5 = P,\n",
        "X5 = P or X6 = P, X1 = P or X6 = P,\n",
        "∀i, j s.t. Adj(i, j) ¬(Xi = E and Xj = E)\n",
        "\n",
        "Unary:\n",
        "¬(X2 6= P),\n",
        "¬(X3 6= P),\n",
        "¬(X4 6= P)"
      ]
    },
    {
      "cell_type": "markdown",
      "metadata": {
        "id": "mOGjfonhoZXz"
      },
      "source": [
        "**2.2** Cross out the values from the domains of the variables that will be deleted in enforcing arc consistency."
      ]
    },
    {
      "cell_type": "markdown",
      "metadata": {
        "id": "d_rzL2wUosdx"
      },
      "source": [
        "![table.png](data:image/png;base64,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)"
      ]
    },
    {
      "cell_type": "markdown",
      "metadata": {
        "id": "ouUBe_oOovh8"
      },
      "source": [
        "**2.3** According to MRV, which variable or variables could the solver assign first?"
      ]
    },
    {
      "cell_type": "markdown",
      "metadata": {
        "id": "-0cPZK9npOrb"
      },
      "source": [
        "**Answer**\n",
        "\n",
        "X1 or X5 (tie breaking)"
      ]
    },
    {
      "cell_type": "markdown",
      "metadata": {
        "id": "d7n0uqOepfCT"
      },
      "source": [
        "**2.4** Assume that Pacman knows that X6 = G. List all the solutions of this CSP or write none if no solutions\n",
        "exist."
      ]
    },
    {
      "cell_type": "markdown",
      "metadata": {
        "id": "Iyk-iw7EptZa"
      },
      "source": [
        "**Answer**\n",
        "\n",
        "(P,E,G,E,P,G)\n",
        "(P,G,E,G,P,G)"
      ]
    },
    {
      "cell_type": "markdown",
      "metadata": {
        "id": "ArpUjO22p7od"
      },
      "source": [
        "**2.5** The CSP described above has a circular structure with 6 variables. Now consider a CSP forming a circular\n",
        "structure that has n variables (n > 2), as shown below. Also assume that the domain of each variable has\n",
        "cardinality d. Explain precisely how to solve this general class of circle-structured CSPs efficiently (i.e. in\n",
        "time linear in the number of variables), using methods covered in class. Your answer should be at most\n",
        "two sentences."
      ]
    },
    {
      "cell_type": "markdown",
      "metadata": {
        "id": "p9KJI4QbqjkJ"
      },
      "source": [
        "![cycle.png](data:image/png;base64,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)"
      ]
    },
    {
      "cell_type": "markdown",
      "metadata": {
        "id": "t9cWRkb9qQvD"
      },
      "source": [
        "**Answer**\n",
        "\n",
        "We fix Xj for some j and assign it a value from its domain (i.e. use cutset conditioning on one variable).\n",
        "The rest of the CSP now forms a tree structure, which can be efficiently solved without backtracking by\n",
        "enforcing arc consistency. We try all possible values for our selected variable Xj until we find a solution."
      ]
    },
    {
      "cell_type": "markdown",
      "metadata": {
        "id": "DoCjGGeAqpG5"
      },
      "source": [
        "**2.6** If standard backtracking search were run on a circle-structured graph, enforcing arc consistency at every\n",
        "step, what, if anything, can be said about the worst-case backtracking behavior (e.g. number of times the\n",
        "search could backtrack)?\n"
      ]
    },
    {
      "cell_type": "markdown",
      "metadata": {
        "id": "bklM9Uj0rfwi"
      },
      "source": [
        "**Answer**\n",
        "\n",
        "A tree structured CSP can be solved without any backtracking. Thus, the above circle-structured CSP\n",
        "can be solved after backtracking at most d times, since we might have to try up to d values for Xj before\n",
        "finding a solution"
      ]
    },
    {
      "cell_type": "markdown",
      "metadata": {
        "id": "sz_Mwn06mY8R"
      },
      "source": [
        "# **CSP implementation**\n",
        "Here is an instance of the CSP class implementation.\n",
        "This class describes finite-domain Constraint Satisfaction Problems.\n",
        "    A CSP is specified by the following three inputs:\n",
        "        vars        A list of variables; each is atomic (e.g. int or string).\n",
        "        domains     A dict of {var:[possible_value, ...]} entries.\n",
        "        neighbors   A dict of {var:[var,...]} that for each variable lists\n",
        "                    the other variables that participate in constraints.\n",
        "        constraints A function f(A, a, B, b) that returns true if neighbors\n",
        "                    A, B satisfy the constraint when they have values A=a, B=b\n",
        "    In the textbook and in most mathematical definitions, the\n",
        "    constraints are specified as explicit pairs of allowable values,\n",
        "    but the formulation here is easier to express and more compact for\n",
        "    most cases. (For example, the n-Queens problem can be represented\n",
        "    in O(n) space using this notation, instead of O(N^4) for the\n",
        "    explicit representation.) In terms of describing the CSP as a\n",
        "    problem, that's all there is.\n",
        "\n",
        "    However, the class also supports data structures and methods that help you\n",
        "    solve CSPs by calling a search function on the CSP.  Methods and slots are\n",
        "    as follows, where the argument 'a' represents an assignment, which is a\n",
        "    dict of {var:val} entries:\n",
        "        assign(var, val, a)     Assign a[var] = val; do other bookkeeping\n",
        "        unassign(var, a)        Do del a[var], plus other bookkeeping\n",
        "        nconflicts(var, val, a) Return the number of other variables that\n",
        "                                conflict with var=val\n",
        "        curr_domains[var]       Slot: remaining consistent values for var\n",
        "                                Used by constraint propagation routines.\n",
        "    The following methods are used only by graph_search and tree_search:\n",
        "        succ()                  Return a list of (action, state) pairs\n",
        "        goal_test(a)            Return true if all constraints satisfied\n",
        "    The following are just for debugging purposes:\n",
        "        nassigns                Slot: tracks the number of assignments made\n",
        "        display(a)              Print a human-readable representation"
      ]
    },
    {
      "cell_type": "code",
      "metadata": {
        "id": "GrGTZF8fmXS_",
        "colab": {
          "base_uri": "https://localhost:8080/",
          "height": 129
        },
        "outputId": "494b0267-7a6e-4b5a-f2d8-0ce522b03806"
      },
      "source": [
        "from __future__ import generators\n",
        "from utils import *\n",
        "import search\n",
        "import types\n",
        "\n",
        "class CSP(search.Problem):\n",
        "\n",
        "    def __init__(self, vars, domains, neighbors, constraints):\n",
        "        \"Construct a CSP problem. If vars is empty, it becomes domains.keys().\"\n",
        "        vars = vars or domains.keys()\n",
        "        update(self, vars=vars, domains=domains,\n",
        "               neighbors=neighbors, constraints=constraints,\n",
        "               initial={}, curr_domains=None, pruned=None, nassigns=0)\n",
        "\n",
        "    def assign(self, var, val, assignment):\n",
        "        \"\"\"Add {var: val} to assignment; Discard the old value if any.\n",
        "        Do bookkeeping for curr_domains and nassigns.\"\"\"\n",
        "        self.nassigns += 1\n",
        "        assignment[var] = val\n",
        "        if self.curr_domains:\n",
        "            if self.fc:\n",
        "                self.forward_check(var, val, assignment)\n",
        "            if self.mac:\n",
        "                AC3(self, [(Xk, var) for Xk in self.neighbors[var]])\n",
        "\n",
        "    def unassign(self, var, assignment):\n",
        "        \"\"\"Remove {var: val} from assignment; that is backtrack.\n",
        "        DO NOT call this if you are changing a variable to a new value;\n",
        "        just call assign for that.\"\"\"\n",
        "        if var in assignment:\n",
        "            # Reset the curr_domain to be the full original domain\n",
        "            if self.curr_domains:\n",
        "                self.curr_domains[var] = self.domains[var][:]\n",
        "            del assignment[var]\n",
        "\n",
        "    def nconflicts(self, var, val, assignment):\n",
        "        \"Return the number of conflicts var=val has with other variables.\"\n",
        "        # Subclasses may implement this more efficiently\n",
        "        def conflict(var2):\n",
        "            val2 = assignment.get(var2, None)\n",
        "            return val2 != None and not self.constraints(var, val, var2, val2)\n",
        "        return count_if(conflict, self.neighbors[var])\n",
        "\n",
        "    def forward_check(self, var, val, assignment):\n",
        "        \"Do forward checking (current domain reduction) for this assignment.\"\n",
        "        if self.curr_domains:\n",
        "            # Restore prunings from previous value of var\n",
        "            for (B, b) in self.pruned[var]:\n",
        "                self.curr_domains[B].append(b)\n",
        "            self.pruned[var] = []\n",
        "            # Prune any other B=b assignement that conflict with var=val\n",
        "            for B in self.neighbors[var]:\n",
        "                if B not in assignment:\n",
        "                    for b in self.curr_domains[B][:]:\n",
        "                        if not self.constraints(var, val, B, b):\n",
        "                            self.curr_domains[B].remove(b)\n",
        "                            self.pruned[var].append((B, b))\n",
        "\n",
        "    def display(self, assignment):\n",
        "        \"Show a human-readable representation of the CSP.\"\n",
        "        # Subclasses can print in a prettier way, or display with a GUI\n",
        "        print 'CSP:', self, 'with assignment:', assignment\n",
        "\n",
        "    ## These methods are for the tree and graph search interface:\n",
        "\n",
        "    def succ(self, assignment):\n",
        "        \"Return a list of (action, state) pairs.\"\n",
        "        if len(assignment) == len(self.vars):\n",
        "            return []\n",
        "        else:\n",
        "            var = find_if(lambda v: v not in assignment, self.vars)\n",
        "            result = []\n",
        "            for val in self.domains[var]:\n",
        "                if self.nconflicts(self, var, val, assignment) == 0:\n",
        "                    a = assignment.copy; a[var] = val\n",
        "                    result.append(((var, val), a))\n",
        "            return result\n",
        "\n",
        "    def goal_test(self, assignment):\n",
        "        \"The goal is to assign all vars, with all constraints satisfied.\"\n",
        "        return (len(assignment) == len(self.vars) and\n",
        "                every(lambda var: self.nconflicts(var, assignment[var],\n",
        "                                                  assignment) == 0,\n",
        "                      self.vars))\n",
        "\n",
        "    ## This is for min_conflicts search\n",
        "\n",
        "    def conflicted_vars(self, current):\n",
        "        \"Return a list of variables in current assignment that are in conflict\"\n",
        "        return [var for var in self.vars\n",
        "                if self.nconflicts(var, current[var], current) > 0]"
      ],
      "execution_count": null,
      "outputs": [
        {
          "output_type": "error",
          "ename": "SyntaxError",
          "evalue": "ignored",
          "traceback": [
            "\u001b[0;36m  File \u001b[0;32m\"<ipython-input-1-416b0057638b>\"\u001b[0;36m, line \u001b[0;32m62\u001b[0m\n\u001b[0;31m    print 'CSP:', self, 'with assignment:', assignment\u001b[0m\n\u001b[0m               ^\u001b[0m\n\u001b[0;31mSyntaxError\u001b[0m\u001b[0;31m:\u001b[0m Missing parentheses in call to 'print'. Did you mean print('CSP:', self, 'with assignment:', assignment)?\n"
          ]
        }
      ]
    },
    {
      "cell_type": "markdown",
      "metadata": {
        "id": "cZq4VB_Qm5Cr"
      },
      "source": [
        "Here we have a soloution for n queens problem using the above class.\n",
        "\n",
        "We first Make a CSP for the nQueens problem for search with min_conflicts.\n",
        "    Suitable for large n, it uses only data structures of size O(n).\n",
        "    we want to place queens one per column, from left to right.\n",
        "    That means position (x, y) represents (var, val) in the CSP.\n",
        "    The main structures are three arrays to count queens that could conflict:\n",
        "        rows[i]      Number of queens in the ith row (i.e val == i)\n",
        "        downs[i]     Number of queens in the \\ diagonal\n",
        "                     such that their (x, y) coordinates sum to i\n",
        "        ups[i]       Number of queens in the / diagonal\n",
        "                     such that their (x, y) coordinates have x-y+n-1 = i\n",
        "    We increment/decrement these counts each time a queen is placed/moved from\n",
        "    a row/diagonal. So moving is O(1), as is nconflicts.  But choosing\n",
        "    a variable, and a best value for the variable, are each O(n).\n",
        "    If you want, you can keep track of conflicted vars, then variable\n",
        "    selection will also be O(1)."
      ]
    },
    {
      "cell_type": "code",
      "metadata": {
        "id": "rcOIyPiiopPK"
      },
      "source": [
        "def queen_constraint(A, a, B, b):\n",
        "    \"\"\"Constraint is satisfied (true) if A, B are really the same variable,\n",
        "    or if they are not in the same row, down diagonal, or up diagonal.\"\"\"\n",
        "    return A == B or (a != b and A + a != B + b and A - a != B - b)\n",
        "\n",
        "class NQueensCSP(CSP):\n",
        "    \"\"\"\n",
        "    >>> len(backtracking_search(NQueensCSP(8)))\n",
        "    8\n",
        "    >>> len(min_conflicts(NQueensCSP(8)))\n",
        "    8\n",
        "    \"\"\"\n",
        "    def __init__(self, n):\n",
        "        \"\"\"Initialize data structures for n Queens.\"\"\"\n",
        "        CSP.__init__(self, range(n), UniversalDict(range(n)),\n",
        "                     UniversalDict(range(n)), queen_constraint)\n",
        "        update(self, rows=[0]*n, ups=[0]*(2*n - 1), downs=[0]*(2*n - 1))\n",
        "    "
      ],
      "execution_count": null,
      "outputs": []
    },
    {
      "cell_type": "markdown",
      "metadata": {
        "id": "Q5jAu1sMtAmC"
      },
      "source": [
        "The number of conflicts, as recorded with each assignment.\n",
        "        Count conflicts in row and in up, down diagonals. If there\n",
        "        is a queen there, it can't conflict with itself, so subtract 3."
      ]
    },
    {
      "cell_type": "code",
      "metadata": {
        "id": "M3_K9bXKtAQE"
      },
      "source": [
        "def nconflicts(self, var, val, assignment):\n",
        "        n = len(self.vars)\n",
        "        c = self.rows[val] + self.downs[var+val] + self.ups[var-val+n-1]\n",
        "        if assignment.get(var, None) == val:\n",
        "            c -= 3\n",
        "        return c"
      ],
      "execution_count": null,
      "outputs": []
    },
    {
      "cell_type": "markdown",
      "metadata": {
        "id": "oMMGF4R1s2mH"
      },
      "source": [
        "Assign var, and keep track of conflicts."
      ]
    },
    {
      "cell_type": "code",
      "metadata": {
        "id": "9HTXOp5Xs15K"
      },
      "source": [
        "def assign(self, var, val, assignment):\n",
        "        oldval = assignment.get(var, None)\n",
        "        if val != oldval:\n",
        "            if oldval is not None: # Remove old val if there was one\n",
        "                self.record_conflict(assignment, var, oldval, -1)\n",
        "            self.record_conflict(assignment, var, val, +1)\n",
        "            CSP.assign(self, var, val, assignment)"
      ],
      "execution_count": null,
      "outputs": []
    },
    {
      "cell_type": "markdown",
      "metadata": {
        "id": "pBxHoGHGsJKs"
      },
      "source": [
        "Remove var from assignment (if it is there) and track conflicts"
      ]
    },
    {
      "cell_type": "code",
      "metadata": {
        "id": "yzUe-XQnsJ0j"
      },
      "source": [
        "def unassign(self, var, assignment):\n",
        "        if var in assignment:\n",
        "            self.record_conflict(assignment, var, assignment[var], -1)\n",
        "        CSP.unassign(self, var, assignment)"
      ],
      "execution_count": null,
      "outputs": []
    },
    {
      "cell_type": "markdown",
      "metadata": {
        "id": "o1IaGkyEslDw"
      },
      "source": [
        "Record conflicts caused by addition or deletion of a Queen."
      ]
    },
    {
      "cell_type": "code",
      "metadata": {
        "id": "zT-6qWtysezO"
      },
      "source": [
        "def record_conflict(self, assignment, var, val, delta):\n",
        "        n = len(self.vars)\n",
        "        self.rows[val] += delta\n",
        "        self.downs[var + val] += delta\n",
        "        self.ups[var - val + n - 1] += delta"
      ],
      "execution_count": null,
      "outputs": []
    },
    {
      "cell_type": "markdown",
      "metadata": {
        "id": "SnJlnlAor1Ll"
      },
      "source": [
        "this function Prints the queens and the conflicts values (for debugging)"
      ]
    },
    {
      "cell_type": "code",
      "metadata": {
        "id": "VNFR99Xnr0W0"
      },
      "source": [
        "def display(self, assignment):\n",
        "        \n",
        "        n = len(self.vars)\n",
        "        for val in range(n):\n",
        "            for var in range(n):\n",
        "                if assignment.get(var,'') == val: ch ='Q'\n",
        "                elif (var+val) % 2 == 0: ch = '.'\n",
        "                else: ch = '-'\n",
        "                print ch,\n",
        "            print '    ',\n",
        "            for var in range(n):\n",
        "                if assignment.get(var,'') == val: ch ='*'\n",
        "                else: ch = ' '\n",
        "                print str(self.nconflicts(var, val, assignment))+ch,\n",
        "            print"
      ],
      "execution_count": null,
      "outputs": []
    },
    {
      "cell_type": "markdown",
      "metadata": {
        "id": "tn-QYRzQg1-i"
      },
      "source": [
        "**<h1> Adverserial :<h1>**"
      ]
    },
    {
      "cell_type": "markdown",
      "metadata": {
        "id": "ZPfGCOLb0Qxo"
      },
      "source": [
        "#**1_Minimax (nearly minimax)**\n",
        "In this problem, you will consider the non zero-sum generalization in which the sum of the two players’ utilities are not necessarily zero. Because player A’s utility no longer determines player B’s utility exactly, the leaf utilities are written as pairs (UA,UB), with the first and second component indicating the utility of that leaf to A and B respectively. In this generalized setting, A seeks to maximize UA, the first component, while B seeks to maximize UB, the second component.\n"
      ]
    },
    {
      "cell_type": "markdown",
      "metadata": {
        "id": "jCo6NfeY1FBQ"
      },
      "source": [
        "**1.1** \n",
        "\n",
        "\n",
        "![Capture.PNG](data:image/png;base64,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)\n",
        "\n",
        "Propagate the terminal utility pairs up the tree using the appropriate generalization of the minimax algorithm on this game tree. Fill in the values (as pairs) at each of the internal node. Assume that each player maximizes their own utility.\n"
      ]
    },
    {
      "cell_type": "markdown",
      "metadata": {
        "id": "umqI2LIH1ZXf"
      },
      "source": [
        "**Answer**\n",
        "\n",
        "![Capture.PNG](data:image/png;base64,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)"
      ]
    },
    {
      "cell_type": "markdown",
      "metadata": {
        "id": "gyDeBTup1lsn"
      },
      "source": [
        "**1.2** Briefly explain why no alpha-beta style pruning is possible in the general non-zero sum case.\n",
        "\n",
        "Hint: think first about the case where UA(s) = UB(s) for all nodes.\n"
      ]
    },
    {
      "cell_type": "markdown",
      "metadata": {
        "id": "GCctksNS1x_H"
      },
      "source": [
        "**Answer**\n",
        "\n",
        "The values that the first and second player are trying to maximize are independent, so we no longer have situations where we know that one player will never let the other player down a particular branch of the game tree.\n",
        "\n",
        "For instance, in the case where UA = UB, the problem reduces to searching for the max-valued leaf, which could appear anywhere in the tree.\n"
      ]
    },
    {
      "cell_type": "markdown",
      "metadata": {
        "id": "uBe9Nzde1_P3"
      },
      "source": [
        "**1.3** For minimax, we know that the value $v$ computed at the root (say for player A = MAX) is a worst-case\n",
        "value. This means that if the opponent MIN doesn’t act optimally, the actual outcome $v'$\n",
        "for MAX can only be better, never worse than $v$.\n",
        "\n",
        "In the general non-zero sum setup, can we say that the value $U_A$ computed at the root for player A is also a worst-case value in this sense, or can A’s outcome be worse than the computed $U_A$ if B plays sub-optimally? "
      ]
    },
    {
      "cell_type": "markdown",
      "metadata": {
        "id": "txE_HKao2rC5"
      },
      "source": [
        "**Answer**\n",
        "\n",
        "A’s outcome can be worse than the computed $U_A$. For instance, in the example game, if B chooses (−2, 0)\n",
        "over (1, 1), then A’s outcome will decrease from 1 to -1."
      ]
    },
    {
      "cell_type": "markdown",
      "metadata": {
        "id": "L3OP1m8B3wti"
      },
      "source": [
        "**1.4** Now consider the nearly zero sum case, in which $|U_A(s) + U_B(s)| ≤ \\epsilon $ at all terminal nodes s for some $\\epsilon$\n",
        "which is known in advance. For example, the previous game tree is nearly zero sum for $\\epsilon$ = 2.\n",
        "\n",
        "In the nearly zero sum case, pruning is possible. Draw an X in each node in this game tree which could be\n",
        "pruned with the appropriate generalization of alpha-beta pruning. Assume that the exploration is being\n",
        "done in the standard left to right depth-first order and the value of $\\epsilon$ is known to be 2.\n"
      ]
    },
    {
      "cell_type": "markdown",
      "metadata": {
        "id": "a5R9lbEI4o5p"
      },
      "source": [
        "**Answer**\n",
        "\n",
        "We can prune the node (0, −2) and if we allow pruning on equality then we can also prune (−1, 3). "
      ]
    },
    {
      "cell_type": "markdown",
      "metadata": {
        "id": "jLNdmQUkg_Uy"
      },
      "source": [
        "# **2_Expectimax**"
      ]
    },
    {
      "cell_type": "markdown",
      "metadata": {
        "id": "rQNtYoZ1i8Hj"
      },
      "source": [
        "**2.1** give an example  in which the root node has a larger value if expectimax search is used than if\n",
        "minimax is used, or argue why it is not possible.\n"
      ]
    },
    {
      "cell_type": "markdown",
      "metadata": {
        "id": "K6mqznYDjPME"
      },
      "source": [
        "**Answer**\n",
        "\n",
        "![Capture.PNG](data:image/png;base64,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)\n",
        "\n",
        "\n",
        "We can see here that the above game tree has a root value of 1 for the minimax strategy. If we instead switch to expectimax and replace the min nodes with chance nodes, chance nodes take 50 and 10 and the root of the tree takes on a value of 50 and the optimal action changes for MAX."
      ]
    },
    {
      "cell_type": "markdown",
      "metadata": {
        "id": "k1Qfq5TrlJU8"
      },
      "source": [
        "**2.2** \n",
        "is there example for reverse problem  in which the root node has a larger value if minimax search is used than if expectimax is used, or argue why it is not possible.\n"
      ]
    },
    {
      "cell_type": "markdown",
      "metadata": {
        "id": "ykkw_hRTlqlW"
      },
      "source": [
        "**Answer**\n",
        "\n",
        "Optimal play for MIN, by definition, means the best moves for MIN to obtain the lowest value possible. Random play includes moves that are not optimal. Assuming there are no ties (no two leaves have the same value), expectimax will always average in suboptimal moves. Averaging a suboptimal move (for MIN) against an optimal move (for MIN) will always increase the expected outcome.\n",
        "With this in mind, we can see how there is no game tree where the value of the root for expectimax is lower than the value of the root for minimax. One is optimal play – the other is suboptimal play averaged with optimal play, which by definiton leads to a higher value for MIN."
      ]
    },
    {
      "cell_type": "markdown",
      "metadata": {
        "id": "XkCTvBDHmZjT"
      },
      "source": [
        "**2.3** when is better to use minimax rather than expectimax? \n",
        "\n",
        "Under what assumptions it is better to use expectimax search rather than minimax\n",
        "search?\n"
      ]
    },
    {
      "cell_type": "markdown",
      "metadata": {
        "id": "jFEJ8caXnAsb"
      },
      "source": [
        "**Answer**\n",
        "\n",
        "if you expect your oppnent is playing optimal it is better to use minimax.\n",
        "\n",
        "if the oppnent is playing randomly expectimax will optimize for the maximum expected value."
      ]
    },
    {
      "cell_type": "markdown",
      "metadata": {
        "id": "HJ9UW6Zip4qP"
      },
      "source": [
        "**2.4**. Imagine that player 1 wishes to act optimally (rationally), and player 1 knows that player 2 also intends to act optimally. However, player 1 also knows that player 2 (mistakenly) believes that player 1 is moving uniformly at random rather than optimally. Explain how player 1 should use this knowledge to select a move."
      ]
    },
    {
      "cell_type": "markdown",
      "metadata": {
        "id": "_uusoRFoqACl"
      },
      "source": [
        "**Answer**\n",
        "\n",
        "Use two games trees:\n",
        "\n",
        "Game tree 1: max is replaced by a chance node. Solve this tree to find the policy of MIN.\n",
        "\n",
        "Game tree 2: the original tree, but MIN doesn’t have any choices now, instead is constrained to follow the policy found from Game Tree 1."
      ]
    },
    {
      "cell_type": "markdown",
      "metadata": {
        "id": "knjj-crXu6JR"
      },
      "source": [
        "#**Minimax with alpha beta pruning implenation**\n",
        "We have python code for famous game tic tac toe with Minimax algorithm.\n"
      ]
    },
    {
      "cell_type": "code",
      "metadata": {
        "colab": {
          "base_uri": "https://localhost:8080/"
        },
        "id": "uCZTJGFvwwpr",
        "outputId": "74ba7bb1-d377-4fbd-82c7-5733e79fc85c"
      },
      "source": [
        "import numpy as np\n",
        "import sys\n",
        "from copy import copy\n",
        "rows=3\n",
        "cols=3\n",
        "\n",
        "board=np.zeros((rows,cols))\n",
        "# 0 ->blank\n",
        "# 1 --> 'x'\n",
        "# 2-> 'o'\n",
        "inf=9999999999\n",
        "neg_inf=-9999999999\n",
        "def printBoard():\n",
        "    for i in range(0,rows):\n",
        "        for j in range(0,cols):\n",
        "            if board[i,j]==0:\n",
        "                sys.stdout.write(' _ ')\n",
        "\n",
        "            elif board[i,j]==1:\n",
        "                sys.stdout.write(' X ')\n",
        "            else:\n",
        "                sys.stdout.write(' O ')\n",
        "         \n",
        "        print ('')\n",
        "\n",
        "\n",
        "#for tic Tac Toe the heuris function will be evaluating the board position for each of the winning positions\n",
        "heuristicTable=np.zeros((rows+1,cols+1))\n",
        "numberOfWinningPositions=rows+cols+2 \n",
        "for index in range(0,rows+1):\n",
        "    heuristicTable[index,0]=10**index\n",
        "    heuristicTable[0,index]=-10**index\n",
        "\n",
        "winningArray=np.array([[0,1,2],[3,4,5],[6,7,8],[0,3,6],[1,4,7],[2,5,8],[0,4,8],[2,4,6]])\n",
        "#print 'the heuristicTable is ',heuristicTable\n",
        "#print 'numberOfWinningPositions is ',numberOfWinningPositions\n",
        "def utilityOfState(state):\n",
        "    \n",
        "    \n",
        "    stateCopy=copy(state.ravel())\n",
        "    heuristic=0\n",
        "    for i in range(0,numberOfWinningPositions):\n",
        "        maxp=0\n",
        "        minp=0\n",
        "        for j in range(0, rows):\n",
        "            if stateCopy[winningArray[i,j]]==2:\n",
        "                maxp+=1\n",
        "            elif stateCopy[winningArray[i,j]]==1:\n",
        "                minp+=1\n",
        "        \n",
        "        #each iteration of the inner loop evalutes the objective function for each of the winning positions\n",
        "        heuristic+=heuristicTable[maxp][minp]\n",
        "    #print 'heuristic for state ',state,' is ',heuristic\n",
        "    return heuristic\n",
        "\n",
        "def minimax(state,alpha,beta,maximizing,depth,maxp,minp):\n",
        "    \n",
        "    if depth==0:\n",
        "        return utilityOfState(state),state\n",
        "    \n",
        "    rowsLeft,columnsLeft=np.where(state==0)\n",
        "    returnState=copy(state)\n",
        "    if rowsLeft.shape[0]==0:\n",
        "        return utilityOfState(state),returnState\n",
        "        \n",
        "    if maximizing==True:\n",
        "        utility=neg_inf\n",
        "        for i in range(0,rowsLeft.shape[0]):\n",
        "            nextState=copy(state)\n",
        "            nextState[rowsLeft[i],columnsLeft[i]]=maxp\n",
        "            #print 'in max currently the Nextstate is ',nextState,'\\n\\n'\n",
        "            Nutility,Nstate=minimax(nextState,alpha,beta,False,depth-1,maxp,minp)\n",
        "            if Nutility > utility:\n",
        "                utility=Nutility\n",
        "                returnState=copy(nextState)\n",
        "            if utility>alpha:\n",
        "                alpha=utility\n",
        "            if alpha >=beta :\n",
        "                #print 'pruned'\n",
        "                break;\n",
        "        \n",
        "        #print 'for max the best move is with utility ',utility,' n state ',returnState\n",
        "        return utility,returnState\n",
        "\n",
        "    else:\n",
        "        utility=inf\n",
        "        for i in range(0,rowsLeft.shape[0]):\n",
        "            nextState=copy(state)\n",
        "            nextState[rowsLeft[i],columnsLeft[i]]=minp\n",
        "            #print 'in min currently the Nextstate is ',nextState,'\\n\\n'\n",
        "            Nutility,Nstate=minimax(nextState,alpha,beta,True,depth-1,maxp,minp)\n",
        "            if Nutility < utility:\n",
        "                utility=Nutility\n",
        "                returnState=copy(nextState)\n",
        "            if utility< beta:\n",
        "                beta=utility\n",
        "            if alpha >=beta :\n",
        "                #print 'pruned'\n",
        "                break;\n",
        "        return utility,returnState\n",
        "        \n",
        "def checkGameOver(state):\n",
        "    stateCopy=copy(state)\n",
        "    value=utilityOfState(stateCopy)\n",
        "    if value >=1000:\n",
        "        return 1\n",
        "    return -1\n",
        "    \n",
        "    \n",
        "def main():\n",
        "    num=int(input('enter player num (1st or 2nd) '))\n",
        "    value=0\n",
        "    global board\n",
        "    for turn in range(0,rows*cols):\n",
        "        if (turn+num)%2==1: #make the player go first, and make the user player as 'X'\n",
        "            r,c=[int(x) for x in input('Enter your move ').split(' ')]\n",
        "            \n",
        "            board[r-1,c-1]=1\n",
        "            printBoard()\n",
        "            value=checkGameOver(board)\n",
        "            if value==1:\n",
        "                print ('U win.Game Over')\n",
        "                return\n",
        "            print ('\\n')\n",
        "        else: #its the computer's turn make the PC always put a circle'\n",
        "            #right now we know the state if the board was filled by the other player \n",
        "            state=copy(board)\n",
        "            value,nextState=minimax(state,neg_inf,inf,True,2,2,1)\n",
        "            board=copy(nextState)\n",
        "            printBoard()\n",
        "            print ('\\n')\n",
        "            value=checkGameOver(board)\n",
        "            if value==1:\n",
        "                print ('PC wins.Game Over')\n",
        "                return\n",
        "        \n",
        "    print ('Its a draw')\n",
        "main()"
      ],
      "execution_count": null,
      "outputs": [
        {
          "output_type": "stream",
          "text": [
            "enter player num (1st or 2nd) 1\n",
            "Enter your move 1 1\n",
            " X  _  _ \n",
            " _  _  _ \n",
            " _  _  _ \n",
            "\n",
            "\n",
            " X  _  _ \n",
            " _  O  _ \n",
            " _  _  _ \n",
            "\n",
            "\n",
            "Enter your move 1 2\n",
            " X  X  _ \n",
            " _  O  _ \n",
            " _  _  _ \n",
            "\n",
            "\n",
            " X  X  O \n",
            " _  O  _ \n",
            " _  _  _ \n",
            "\n",
            "\n",
            "Enter your move 2 1\n",
            " X  X  O \n",
            " X  O  _ \n",
            " _  _  _ \n",
            "\n",
            "\n",
            " X  X  O \n",
            " X  O  _ \n",
            " O  _  _ \n",
            "\n",
            "\n",
            "PC wins.Game Over\n"
          ],
          "name": "stdout"
        }
      ]
    },
    {
      "cell_type": "markdown",
      "metadata": {
        "id": "xvzDMRJRrKKV"
      },
      "source": [
        "http://aima.cs.berkeley.edu/python/csp.html\n",
        "\n",
        "http://ai.berkeley.edu/section_handouts.html\n",
        "\n",
        "https://github.com/deerishi/Tic-Tac-Toe-Using-Alpha-Beta-Minimax-Search/blob/master/tictac.py\n",
        "\n"
      ]
    }
  ]
}